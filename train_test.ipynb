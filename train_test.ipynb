{
 "cells": [
  {
   "cell_type": "code",
   "id": "747b8b40ebbd39a",
   "metadata": {
    "ExecuteTime": {
     "end_time": "2024-10-29T13:32:48.075056Z",
     "start_time": "2024-10-29T13:32:48.062292Z"
    }
   },
   "source": [
    "import torch\n",
    "import torchvision\n",
    "import torchvision.transforms as transforms\n",
    "from torch.utils.data import DataLoader\n",
    "import torch.nn as nn\n",
    "import torch.optim as optim\n",
    "from sklearn.linear_model import LogisticRegression\n",
    "from sklearn.metrics import accuracy_score\n",
    "from sklearn.model_selection import train_test_split\n",
    "import numpy as np"
   ],
   "outputs": [],
   "execution_count": 67
  },
  {
   "metadata": {
    "ExecuteTime": {
     "end_time": "2024-10-29T13:32:48.578204Z",
     "start_time": "2024-10-29T13:32:48.137222Z"
    }
   },
   "cell_type": "code",
   "source": [
    "# Data transformations\n",
    "transform = transforms.Compose([\n",
    "    transforms.RandomHorizontalFlip(),\n",
    "    transforms.RandomRotation(10),\n",
    "    transforms.Resize((224, 224)),\n",
    "    transforms.ToTensor(),\n",
    "    transforms.Normalize((0.5, 0.5, 0.5), (0.5, 0.5, 0.5))\n",
    "])\n",
    "\n",
    "# Load dataset\n",
    "batch_size = 4\n",
    "trainset = torchvision.datasets.ImageFolder(root='trainingdata', transform=transform)\n",
    "trainloader = DataLoader(trainset, batch_size=batch_size, shuffle=True, num_workers=2)\n",
    "testset = torchvision.datasets.ImageFolder(root='testdata', transform=transform)\n",
    "testloader = DataLoader(testset, batch_size=batch_size, shuffle=False, num_workers=2)\n",
    "\n",
    "classes = ('cherry', 'strawberry', 'tomato')"
   ],
   "id": "99af8136130ef2a3",
   "outputs": [],
   "execution_count": 68
  },
  {
   "metadata": {
    "ExecuteTime": {
     "end_time": "2024-10-29T13:32:51.014826Z",
     "start_time": "2024-10-29T13:32:48.909268Z"
    }
   },
   "cell_type": "code",
   "source": [
    "from torchvision.models import ResNet50_Weights, VGG16_Weights, EfficientNet_B0_Weights\n",
    "\n",
    "# Define function to load and modify pre-trained model\n",
    "def get_model(model_name, num_classes):\n",
    "    if model_name == 'resnet50':\n",
    "        model = torchvision.models.resnet50(weights=ResNet50_Weights.DEFAULT)\n",
    "        model.fc = nn.Linear(model.fc.in_features, num_classes)\n",
    "    elif model_name == 'vgg16':\n",
    "        model = torchvision.models.vgg16(weights=VGG16_Weights.DEFAULT)\n",
    "        model.classifier[6] = nn.Linear(model.classifier[6].in_features, num_classes)\n",
    "    elif model_name == 'efficientnet_b0':\n",
    "        model = torchvision.models.efficientnet_b0(weights=EfficientNet_B0_Weights.DEFAULT)\n",
    "        model.classifier[1] = nn.Linear(model.classifier[1].in_features, num_classes)\n",
    "    else:\n",
    "        raise ValueError(\"Unsupported model name\")\n",
    "\n",
    "    return model.to(device)\n",
    "\n",
    "# Initialize the device\n",
    "device = torch.device(\"cuda:0\" if torch.cuda.is_available() else \"cpu\")\n",
    "\n",
    "# List of models to use in the ensemble\n",
    "model_names = ['resnet50', 'vgg16', 'efficientnet_b0']\n",
    "models = [get_model(name, len(classes)) for name in model_names]"
   ],
   "id": "25659ad71f361c5f",
   "outputs": [],
   "execution_count": 69
  },
  {
   "metadata": {
    "ExecuteTime": {
     "end_time": "2024-10-29T14:05:17.818810Z",
     "start_time": "2024-10-29T13:32:51.018342Z"
    }
   },
   "cell_type": "code",
   "source": [
    "import matplotlib.pyplot as plt\n",
    "\n",
    "# Fine-tune each model individually\n",
    "num_epochs = 3  # Set lower for faster training\n",
    "learning_rate = 0.001\n",
    "meta_features, meta_labels = [], []\n",
    "\n",
    "# Prepare to collect losses and accuracies\n",
    "losses = []\n",
    "accuracies = []\n",
    "\n",
    "# Training each model\n",
    "for model in models:\n",
    "    criterion = nn.CrossEntropyLoss()\n",
    "    optimizer = optim.SGD(model.parameters(), lr=learning_rate, momentum=0.9)\n",
    "    \n",
    "    model_losses = []\n",
    "    model_accuracies = []\n",
    "\n",
    "    # Training loop\n",
    "    for epoch in range(num_epochs):\n",
    "        model.train()\n",
    "        running_loss = 0.0\n",
    "        correct_predictions = 0\n",
    "        total_predictions = 0\n",
    "        \n",
    "        for i, data in enumerate(trainloader):\n",
    "            inputs, labels = data[0].to(device), data[1].to(device)\n",
    "\n",
    "            optimizer.zero_grad()\n",
    "            outputs = model(inputs)\n",
    "            loss = criterion(outputs, labels)\n",
    "            losses.append(loss.item())\n",
    "            running_loss += loss.item()\n",
    "\n",
    "            # Accuracy calculation\n",
    "            _, predicted = torch.max(outputs.data, 1)\n",
    "            total_predictions += labels.size(0)\n",
    "            correct_predictions += (predicted == labels).sum().item()\n",
    "\n",
    "            loss.backward()\n",
    "            optimizer.step()\n",
    "\n",
    "        # Record loss and accuracy for this epoch\n",
    "        model_losses.append(running_loss / len(trainloader))\n",
    "        epoch_accuracy = correct_predictions / total_predictions\n",
    "        model_accuracies.append(epoch_accuracy)\n",
    "\n",
    "        print(f\"Model {model.__class__.__name__}, Epoch {epoch + 1}/{num_epochs}, \"\n",
    "              f\"Loss: {running_loss / len(trainloader)}, Accuracy: {epoch_accuracy * 100:.2f}%\")\n",
    "\n",
    "    # Append model losses and accuracies to main lists\n",
    "    losses.append(model_losses)\n",
    "    accuracies.append(model_accuracies)\n",
    "\n",
    "# Collect meta-features for stacking\n",
    "with torch.no_grad():\n",
    "    for data in testloader:\n",
    "        inputs, labels = data[0].to(device), data[1].to(device)\n",
    "        predictions = [model(inputs).cpu().numpy() for model in models]\n",
    "        meta_features.extend(np.hstack(predictions))\n",
    "        meta_labels.extend(labels.cpu().numpy())\n",
    "\n",
    "meta_features = np.array(meta_features)\n",
    "meta_labels = np.array(meta_labels)\n",
    "\n",
    "# Split meta-features for training the meta-model\n",
    "X_train, X_val, y_train, y_val = train_test_split(meta_features, meta_labels, test_size=0.2, random_state=42)\n",
    "\n",
    "# Train a meta-model (Logistic Regression)\n",
    "meta_model = LogisticRegression(max_iter=1000)\n",
    "meta_model.fit(X_train, y_train)\n",
    "\n",
    "# Evaluate the meta-model\n",
    "y_pred = meta_model.predict(X_val)\n",
    "accuracy = accuracy_score(y_val, y_pred)\n",
    "print(f\"Ensemble Model Validation Accuracy: {accuracy * 100:.2f}%\")\n",
    "\n",
    "# Save model weights and meta-model coefficients to .pth file\n",
    "save_dict = {\n",
    "    \"models\": {name: model.state_dict() for name, model in zip(model_names, models)},\n",
    "    \"meta_model\": {\n",
    "        \"coef\": meta_model.coef_,\n",
    "        \"intercept\": meta_model.intercept_\n",
    "    }\n",
    "}\n",
    "\n",
    "torch.save(save_dict, 'model.pth')"
   ],
   "id": "94c8042ed1eb5827",
   "outputs": [
    {
     "name": "stdout",
     "output_type": "stream",
     "text": [
      "Model ResNet, Epoch 1/3, Loss: 0.17518570930582655, Accuracy: 93.37%\n",
      "Model ResNet, Epoch 2/3, Loss: 0.050058523666277346, Accuracy: 98.29%\n",
      "Model ResNet, Epoch 3/3, Loss: 0.0346698718117778, Accuracy: 98.76%\n",
      "Model VGG, Epoch 1/3, Loss: 0.14438813572389922, Accuracy: 94.49%\n"
     ]
    },
    {
     "ename": "KeyboardInterrupt",
     "evalue": "",
     "output_type": "error",
     "traceback": [
      "\u001B[1;31m---------------------------------------------------------------------------\u001B[0m",
      "\u001B[1;31mKeyboardInterrupt\u001B[0m                         Traceback (most recent call last)",
      "Cell \u001B[1;32mIn[70], line 28\u001B[0m\n\u001B[0;32m     25\u001B[0m total_predictions \u001B[38;5;241m=\u001B[39m \u001B[38;5;241m0\u001B[39m\n\u001B[0;32m     27\u001B[0m \u001B[38;5;28;01mfor\u001B[39;00m i, data \u001B[38;5;129;01min\u001B[39;00m \u001B[38;5;28menumerate\u001B[39m(trainloader):\n\u001B[1;32m---> 28\u001B[0m     inputs, labels \u001B[38;5;241m=\u001B[39m \u001B[43mdata\u001B[49m\u001B[43m[\u001B[49m\u001B[38;5;241;43m0\u001B[39;49m\u001B[43m]\u001B[49m\u001B[38;5;241;43m.\u001B[39;49m\u001B[43mto\u001B[49m\u001B[43m(\u001B[49m\u001B[43mdevice\u001B[49m\u001B[43m)\u001B[49m, data[\u001B[38;5;241m1\u001B[39m]\u001B[38;5;241m.\u001B[39mto(device)\n\u001B[0;32m     30\u001B[0m     optimizer\u001B[38;5;241m.\u001B[39mzero_grad()\n\u001B[0;32m     31\u001B[0m     outputs \u001B[38;5;241m=\u001B[39m model(inputs)\n",
      "\u001B[1;31mKeyboardInterrupt\u001B[0m: "
     ]
    }
   ],
   "execution_count": 70
  },
  {
   "metadata": {},
   "cell_type": "code",
   "outputs": [],
   "execution_count": null,
   "source": [
    "# Plotting Loss and Accuracy\n",
    "plt.figure(figsize=(12, 5))\n",
    "\n",
    "# Plot Loss\n",
    "plt.subplot(1, 2, 1)\n",
    "for i, model in enumerate(models):\n",
    "    plt.plot(range(1, num_epochs + 1), losses[i], label=model.__class__.__name__)\n",
    "plt.title('Loss Curve')\n",
    "plt.xlabel('Epochs')\n",
    "plt.ylabel('Loss')\n",
    "plt.legend()\n",
    "plt.grid(True)\n",
    "\n",
    "# Plot Accuracy\n",
    "plt.subplot(1, 2, 2)\n",
    "for i, model in enumerate(models):\n",
    "    plt.plot(range(1, num_epochs + 1), accuracies[i], label=model.__class__.__name__)\n",
    "plt.title('Accuracy Curve')\n",
    "plt.xlabel('Epochs')\n",
    "plt.ylabel('Accuracy')\n",
    "plt.ylim(0, 1)\n",
    "plt.legend()\n",
    "plt.grid(True)\n",
    "\n",
    "plt.tight_layout()\n",
    "plt.show()"
   ],
   "id": "9838f85a94dfbf11"
  },
  {
   "metadata": {
    "ExecuteTime": {
     "end_time": "2024-10-29T14:05:17.885537600Z",
     "start_time": "2024-10-29T11:38:18.050309Z"
    }
   },
   "cell_type": "code",
   "outputs": [
    {
     "name": "stdout",
     "output_type": "stream",
     "text": [
      "Ensemble Model Validation Accuracy: 95.56%\n"
     ]
    }
   ],
   "execution_count": 65,
   "source": [
    "\n",
    "PATH = './model.pth'\n",
    "torch.save(meta_model.state_dict(), PATH)"
   ],
   "id": "f42c67427c189ebc"
  },
  {
   "metadata": {
    "collapsed": true,
    "ExecuteTime": {
     "end_time": "2024-10-29T14:05:17.885537600Z",
     "start_time": "2024-10-29T11:39:33.486447Z"
    }
   },
   "cell_type": "code",
   "source": [
    "# Test the final ensemble model\n",
    "with torch.no_grad():\n",
    "    meta_test_features, meta_test_labels = [], []\n",
    "    for data in testloader:\n",
    "        inputs, labels = data[0].to(device), data[1].to(device)\n",
    "        predictions = [model(inputs).cpu().numpy() for model in models]\n",
    "        meta_test_features.extend(np.hstack(predictions))\n",
    "        meta_test_labels.extend(labels.cpu().numpy())\n",
    "\n",
    "meta_test_features = np.array(meta_test_features)\n",
    "meta_test_labels = np.array(meta_test_labels)\n",
    "test_predictions = meta_model.predict(meta_test_features)\n",
    "test_accuracy = accuracy_score(meta_test_labels, test_predictions)\n",
    "print(f\"Ensemble Model Test Accuracy: {test_accuracy * 100:.2f}%\")"
   ],
   "id": "initial_id",
   "outputs": [
    {
     "name": "stdout",
     "output_type": "stream",
     "text": [
      "Ensemble Model Test Accuracy: 94.56%\n"
     ]
    }
   ],
   "execution_count": 66
  }
 ],
 "metadata": {
  "kernelspec": {
   "display_name": "Python 3",
   "language": "python",
   "name": "python3"
  },
  "language_info": {
   "codemirror_mode": {
    "name": "ipython",
    "version": 2
   },
   "file_extension": ".py",
   "mimetype": "text/x-python",
   "name": "python",
   "nbconvert_exporter": "python",
   "pygments_lexer": "ipython2",
   "version": "2.7.6"
  }
 },
 "nbformat": 4,
 "nbformat_minor": 5
}
